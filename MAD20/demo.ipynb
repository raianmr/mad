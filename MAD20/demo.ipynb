﻿{
 "cells": [
  {
   "cell_type": "code",
   "execution_count": 1,
   "id": "initial_id",
   "metadata": {
    "collapsed": true,
    "ExecuteTime": {
     "end_time": "2024-01-15T23:16:03.650571500Z",
     "start_time": "2024-01-15T23:16:00.033572700Z"
    }
   },
   "outputs": [],
   "source": [
    "import pandas as pd\n"
   ]
  },
  {
   "cell_type": "code",
   "outputs": [
    {
     "name": "stdout",
     "output_type": "stream",
     "text": [
      "DB_TYPE='postgresql' DB_PORT='5432' DB_USER='postgres' DB_PASS='watashi' DB_NAME='db' DB_HOST='localhost' MAD20_LOCATION='data/osfstorage-archive/data/'\n"
     ]
    }
   ],
   "source": [
    "from config import settings\n",
    "\n",
    "print(settings)"
   ],
   "metadata": {
    "collapsed": false,
    "ExecuteTime": {
     "end_time": "2024-01-15T23:48:14.883505400Z",
     "start_time": "2024-01-15T23:48:14.793504300Z"
    }
   },
   "id": "a68e0e156f2d52c1",
   "execution_count": 1
  },
  {
   "cell_type": "code",
   "outputs": [
    {
     "name": "stdout",
     "output_type": "stream",
     "text": [
      "(1, 'apache', 'AAR', '12962793.0', '15259116.0', None, 'deec89d8f75a320906c444c0157b54f160cc80f4', 'Etc/UTC', 'deec89d8f75a320906c444c0157b54f160cc80f4', 'Etc/UTC', datetime.datetime(2016, 4, 27, 4, 47, 15, tzinfo=zoneinfo.ZoneInfo(key='Asia/Dhaka')), datetime.datetime(2016, 4, 27, 4, 47, 15, tzinfo=zoneinfo.ZoneInfo(key='Asia/Dhaka')))\n"
     ]
    }
   ],
   "source": [
    "from models.db import get_db_ctx\n",
    "from sqlalchemy.sql import text\n",
    "with get_db_ctx() as db:\n",
    "    result = db.execute(text(\"SELECT * FROM COMMENTS LIMIT 10;\"))\n",
    "    print(result.fetchone())\n"
   ],
   "metadata": {
    "collapsed": false,
    "ExecuteTime": {
     "end_time": "2024-01-16T00:12:32.141253600Z",
     "start_time": "2024-01-16T00:12:32.107254600Z"
    }
   },
   "id": "1d88375f2ce17bcd",
   "execution_count": 10
  },
  {
   "cell_type": "code",
   "outputs": [],
   "source": [],
   "metadata": {
    "collapsed": false
   },
   "id": "b7c75e21a7e60e46"
  }
 ],
 "metadata": {
  "kernelspec": {
   "display_name": "Python 3",
   "language": "python",
   "name": "python3"
  },
  "language_info": {
   "codemirror_mode": {
    "name": "ipython",
    "version": 2
   },
   "file_extension": ".py",
   "mimetype": "text/x-python",
   "name": "python",
   "nbconvert_exporter": "python",
   "pygments_lexer": "ipython2",
   "version": "2.7.6"
  }
 },
 "nbformat": 4,
 "nbformat_minor": 5
}
