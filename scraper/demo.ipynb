﻿{
 "cells": [
  {
   "cell_type": "code",
   "execution_count": 1,
   "id": "initial_id",
   "metadata": {
    "collapsed": true,
    "ExecuteTime": {
     "end_time": "2023-10-29T23:46:57.501518500Z",
     "start_time": "2023-10-29T23:46:57.145438500Z"
    }
   },
   "outputs": [],
   "source": [
    "import json\n",
    "import asyncio\n",
    "from pathlib import Path\n",
    "\n",
    "import httpx\n",
    "\n",
    "from data import settings, repos"
   ]
  },
  {
   "cell_type": "code",
   "execution_count": 4,
   "outputs": [
    {
     "data": {
      "text/plain": "[Repo(name='apache/spark', git_url='https://github.com/apache/spark.git', jira_url='https://issues.apache.org/jira/browse/SPARK'),\n Repo(name='apache/airflow', git_url='https://github.com/apache/airflow.git', jira_url='TODO'),\n Repo(name='apache/kafka', git_url='https://github.com/apache/kafka.git', jira_url='TODO'),\n Repo(name='apache/hadoop', git_url='https://github.com/apache/hadoop.git', jira_url='TODO'),\n Repo(name='apache/arrow', git_url='https://github.com/apache/arrow.git', jira_url='TODO'),\n Repo(name='apache/tomcat', git_url='https://github.com/apache/tomcat.git', jira_url='TODO')]"
     },
     "execution_count": 4,
     "metadata": {},
     "output_type": "execute_result"
    }
   ],
   "source": [
    "async def test():\n",
    "    async with httpx.AsyncClient() as client:\n",
    "        response = await client.post(\n",
    "            repos[0].jira_url,\n",
    "            # json={\"query\": queries[\"repo_query\"]},\n",
    "            headers={\"Authorization\": f\"Bearer {settings.gh_token}\"}\n",
    "        )\n",
    "        result = response.json()\n",
    "\n",
    "    return result\n",
    "\n",
    "result = await test()\n",
    "print(json.dumps(result, indent=4))"
   ],
   "metadata": {
    "collapsed": false,
    "ExecuteTime": {
     "end_time": "2023-10-29T23:47:13.139446Z",
     "start_time": "2023-10-29T23:47:13.136445700Z"
    }
   },
   "id": "63c32757955142b3"
  },
  {
   "cell_type": "code",
   "execution_count": 10,
   "outputs": [],
   "source": [
    "api_url = \"https://api.github.com/graphql\"\n",
    "query_dir, dataset_dir = Path(\"./graphql\"), Path(\"./dataset\")\n",
    "\n",
    "from types import SimpleNamespace\n",
    "\n",
    "queries = SimpleNamespace(  )\n",
    "queries = {path.stem: path.read_text() for path in query_dir.glob(\"*.graphql\")}"
   ],
   "metadata": {
    "collapsed": false,
    "ExecuteTime": {
     "end_time": "2023-09-15T02:28:07.953680300Z",
     "start_time": "2023-09-15T02:28:07.942679300Z"
    }
   },
   "id": "6435f565dacfc506"
  },
  {
   "cell_type": "code",
   "execution_count": 12,
   "outputs": [],
   "source": [
    "async def get_repos():\n",
    "    async with httpx.AsyncClient() as client:\n",
    "        response = await client.post(\n",
    "            api_url,\n",
    "            json={\"query\": queries[\"repo_query\"]},\n",
    "            headers={\"Authorization\": f\"Bearer {settings.gh_token}\"}\n",
    "        )\n",
    "        result = response.json()\n",
    "\n",
    "    return result\n",
    "\n",
    "\n",
    "async def get_prs(repo_ids: list):\n",
    "    async with httpx.AsyncClient() as client:\n",
    "        response = await client.post(\n",
    "            api_url,\n",
    "            json={\n",
    "                \"query\": queries[\"pr_query\"],\n",
    "                \"variables\": {\n",
    "                    \"repoIds\": repo_ids,\n",
    "                    \"endCursor\": None\n",
    "                }\n",
    "            },\n",
    "            headers={\"Authorization\": f\"Bearer {settings.gh_token}\"}\n",
    "        )\n",
    "        result = response.json()\n",
    "\n",
    "        return result"
   ],
   "metadata": {
    "collapsed": false,
    "ExecuteTime": {
     "end_time": "2023-09-15T02:28:12.391614700Z",
     "start_time": "2023-09-15T02:28:12.387614800Z"
    }
   },
   "id": "3948b10be6dbfbd1"
  },
  {
   "cell_type": "code",
   "execution_count": 13,
   "outputs": [
    {
     "name": "stdout",
     "output_type": "stream",
     "text": [
      "{\n",
      "    \"data\": {\n",
      "        \"search\": {\n",
      "            \"edges\": [\n",
      "                {\n",
      "                    \"node\": {\n",
      "                        \"id\": \"MDEwOlJlcG9zaXRvcnk0MTg4MTkwMA==\"\n",
      "                    }\n",
      "                },\n",
      "                {\n",
      "                    \"node\": {\n",
      "                        \"id\": \"MDEwOlJlcG9zaXRvcnkxODQ0NTYyNTE=\"\n",
      "                    }\n",
      "                },\n",
      "                {\n",
      "                    \"node\": {\n",
      "                        \"id\": \"MDEwOlJlcG9zaXRvcnkyMDkyOTAyNQ==\"\n",
      "                    }\n",
      "                },\n",
      "                {\n",
      "                    \"node\": {\n",
      "                        \"id\": \"MDEwOlJlcG9zaXRvcnkxMDAwNjA5MTI=\"\n",
      "                    }\n",
      "                },\n",
      "                {\n",
      "                    \"node\": {\n",
      "                        \"id\": \"MDEwOlJlcG9zaXRvcnkzMTE1MjU3OTg=\"\n",
      "                    }\n",
      "                },\n",
      "                {\n",
      "                    \"node\": {\n",
      "                        \"id\": \"MDEwOlJlcG9zaXRvcnkyMjE5ODE4OTE=\"\n",
      "                    }\n",
      "                },\n",
      "                {\n",
      "                    \"node\": {\n",
      "                        \"id\": \"MDEwOlJlcG9zaXRvcnkzNDM5NjUxMzI=\"\n",
      "                    }\n",
      "                },\n",
      "                {\n",
      "                    \"node\": {\n",
      "                        \"id\": \"MDEwOlJlcG9zaXRvcnk2MDYzMDg0NA==\"\n",
      "                    }\n",
      "                },\n",
      "                {\n",
      "                    \"node\": {\n",
      "                        \"id\": \"R_kgDOJEXQ7A\"\n",
      "                    }\n",
      "                },\n",
      "                {\n",
      "                    \"node\": {\n",
      "                        \"id\": \"MDEwOlJlcG9zaXRvcnkyMzU4NjAyMDQ=\"\n",
      "                    }\n",
      "                }\n",
      "            ]\n",
      "        }\n",
      "    }\n",
      "}\n"
     ]
    }
   ],
   "source": [
    "repos = await get_repos()\n",
    "nodes = [node_dicts['node']['id'] for node_dicts in repos['data']['search']['edges']]\n",
    "# prs = await get_prs(nodes)\n",
    "print(json.dumps(repos, indent=4))"
   ],
   "metadata": {
    "collapsed": false,
    "ExecuteTime": {
     "end_time": "2023-09-15T02:29:22.131677500Z",
     "start_time": "2023-09-15T02:29:20.901074200Z"
    }
   },
   "id": "ef4396d7ada70f25"
  },
  {
   "cell_type": "code",
   "execution_count": null,
   "outputs": [],
   "source": [],
   "metadata": {
    "collapsed": false,
    "ExecuteTime": {
     "start_time": "2023-09-05T02:42:44.478602500Z"
    }
   },
   "id": "baa759ff9656ddff"
  }
 ],
 "metadata": {
  "kernelspec": {
   "display_name": "Python 3",
   "language": "python",
   "name": "python3"
  },
  "language_info": {
   "codemirror_mode": {
    "name": "ipython",
    "version": 2
   },
   "file_extension": ".py",
   "mimetype": "text/x-python",
   "name": "python",
   "nbconvert_exporter": "python",
   "pygments_lexer": "ipython2",
   "version": "2.7.6"
  }
 },
 "nbformat": 4,
 "nbformat_minor": 5
}
