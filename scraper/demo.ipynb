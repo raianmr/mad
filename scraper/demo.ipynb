﻿{
 "cells": [
  {
   "cell_type": "code",
   "execution_count": 36,
   "id": "initial_id",
   "metadata": {
    "collapsed": true,
    "ExecuteTime": {
     "end_time": "2023-09-05T02:25:09.101821500Z",
     "start_time": "2023-09-05T02:25:09.077830600Z"
    }
   },
   "outputs": [],
   "source": [
    "from pathlib import Path\n",
    "import asyncio\n",
    "\n",
    "from gql import gql\n",
    "import httpx\n",
    "\n",
    "from settings import settings "
   ]
  },
  {
   "cell_type": "code",
   "execution_count": 37,
   "outputs": [],
   "source": [
    "api_url = \"https://api.github.com/graphql\"\n",
    "repo_query = (Path(\"./graphql/repo_query.graphql\").read_text())\n",
    "pr_query = (Path(\"./graphql/pr_query.graphql\").read_text())"
   ],
   "metadata": {
    "collapsed": false,
    "ExecuteTime": {
     "end_time": "2023-09-05T02:25:09.102821700Z",
     "start_time": "2023-09-05T02:25:09.083822400Z"
    }
   },
   "id": "6435f565dacfc506"
  },
  {
   "cell_type": "code",
   "execution_count": 38,
   "outputs": [],
   "source": [
    "async def get_repos():\n",
    "    async with httpx.AsyncClient() as client:\n",
    "        response = await client.post(\n",
    "            api_url,\n",
    "            json={\n",
    "                \"query\": repo_query,\n",
    "            },\n",
    "            headers={\n",
    "                \"Authorization\": f\"Bearer {settings.gh_token}\"\n",
    "            }\n",
    "        )\n",
    "        result = response.json()\n",
    "        \n",
    "    return result\n",
    "\n",
    "async def get_prs(repoIds: list):\n",
    "    async with httpx.AsyncClient() as client:\n",
    "        response = await client.post(\n",
    "            api_url, \n",
    "            json={\n",
    "                \"query\": pr_query,\n",
    "                \"variables\": {\n",
    "                    \"repoIds\": repoIds,\n",
    "                    \"endCursor\": None\n",
    "                }\n",
    "            },\n",
    "            headers={\n",
    "                \"Authorization\": f\"Bearer {settings.gh_token}\"\n",
    "            }\n",
    "        )\n",
    "        result = response.json()\n",
    "        \n",
    "        return result"
   ],
   "metadata": {
    "collapsed": false,
    "ExecuteTime": {
     "end_time": "2023-09-05T02:25:09.120832600Z",
     "start_time": "2023-09-05T02:25:09.093822400Z"
    }
   },
   "id": "3948b10be6dbfbd1"
  },
  {
   "cell_type": "code",
   "execution_count": 39,
   "outputs": [
    {
     "name": "stdout",
     "output_type": "stream",
     "text": [
      "{'data': {'search': {'edges': [{'node': {'id': 'MDEwOlJlcG9zaXRvcnk0MTg4MTkwMA=='}}, {'node': {'id': 'MDEwOlJlcG9zaXRvcnkxODQ0NTYyNTE='}}, {'node': {'id': 'MDEwOlJlcG9zaXRvcnkyMDkyOTAyNQ=='}}, {'node': {'id': 'MDEwOlJlcG9zaXRvcnkxMDAwNjA5MTI='}}, {'node': {'id': 'MDEwOlJlcG9zaXRvcnkzMTE1MjU3OTg='}}, {'node': {'id': 'MDEwOlJlcG9zaXRvcnkyMjE5ODE4OTE='}}, {'node': {'id': 'MDEwOlJlcG9zaXRvcnkzNDM5NjUxMzI='}}, {'node': {'id': 'MDEwOlJlcG9zaXRvcnk2MDYzMDg0NA=='}}, {'node': {'id': 'R_kgDOJEXQ7A'}}, {'node': {'id': 'MDEwOlJlcG9zaXRvcnkyMzU4NjAyMDQ='}}]}}}\n"
     ]
    }
   ],
   "source": [
    "async def main():\n",
    "    repos = await get_repos()\n",
    "    print(repos)\n",
    "\n",
    "await main()"
   ],
   "metadata": {
    "collapsed": false,
    "ExecuteTime": {
     "end_time": "2023-09-05T02:25:10.390297Z",
     "start_time": "2023-09-05T02:25:09.098822500Z"
    }
   },
   "id": "ef4396d7ada70f25"
  },
  {
   "cell_type": "code",
   "execution_count": 39,
   "outputs": [],
   "source": [],
   "metadata": {
    "collapsed": false,
    "ExecuteTime": {
     "end_time": "2023-09-05T02:25:10.391297200Z",
     "start_time": "2023-09-05T02:25:10.387261100Z"
    }
   },
   "id": "baa759ff9656ddff"
  }
 ],
 "metadata": {
  "kernelspec": {
   "display_name": "Python 3",
   "language": "python",
   "name": "python3"
  },
  "language_info": {
   "codemirror_mode": {
    "name": "ipython",
    "version": 2
   },
   "file_extension": ".py",
   "mimetype": "text/x-python",
   "name": "python",
   "nbconvert_exporter": "python",
   "pygments_lexer": "ipython2",
   "version": "2.7.6"
  }
 },
 "nbformat": 4,
 "nbformat_minor": 5
}
