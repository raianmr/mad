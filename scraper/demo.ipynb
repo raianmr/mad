﻿{
 "cells": [
  {
   "cell_type": "code",
   "execution_count": 53,
   "id": "initial_id",
   "metadata": {
    "collapsed": true,
    "ExecuteTime": {
     "end_time": "2023-09-05T02:42:37.638426600Z",
     "start_time": "2023-09-05T02:42:37.614354100Z"
    }
   },
   "outputs": [],
   "source": [
    "import json\n",
    "import asyncio\n",
    "from pathlib import Path\n",
    "\n",
    "import httpx\n",
    "from gql import gql\n",
    "\n",
    "from settings import settings "
   ]
  },
  {
   "cell_type": "code",
   "execution_count": 54,
   "outputs": [],
   "source": [
    "api_url = \"https://api.github.com/graphql\"\n",
    "repo_query = (Path(\"./graphql/repo_query.graphql\").read_text())\n",
    "pr_query = (Path(\"./graphql/pr_query.graphql\").read_text())"
   ],
   "metadata": {
    "collapsed": false,
    "ExecuteTime": {
     "end_time": "2023-09-05T02:42:37.641430400Z",
     "start_time": "2023-09-05T02:42:37.620427100Z"
    }
   },
   "id": "6435f565dacfc506"
  },
  {
   "cell_type": "code",
   "execution_count": 55,
   "outputs": [],
   "source": [
    "async def get_repos():\n",
    "    async with httpx.AsyncClient() as client:\n",
    "        response = await client.post(\n",
    "            api_url,\n",
    "            json={\n",
    "                \"query\": repo_query,\n",
    "            },\n",
    "            headers={\n",
    "                \"Authorization\": f\"Bearer {settings.gh_token}\"\n",
    "            }\n",
    "        )\n",
    "        result = response.json()\n",
    "        \n",
    "    return result\n",
    "\n",
    "async def get_prs(repoIds: list):\n",
    "    async with httpx.AsyncClient() as client:\n",
    "        response = await client.post(\n",
    "            api_url, \n",
    "            json={\n",
    "                \"query\": pr_query,\n",
    "                \"variables\": {\n",
    "                    \"repoIds\": repoIds,\n",
    "                    \"endCursor\": None\n",
    "                }\n",
    "            },\n",
    "            headers={\n",
    "                \"Authorization\": f\"Bearer {settings.gh_token}\"\n",
    "            }\n",
    "        )\n",
    "        result = response.json()\n",
    "        \n",
    "        return result"
   ],
   "metadata": {
    "collapsed": false,
    "ExecuteTime": {
     "end_time": "2023-09-05T02:42:37.665439700Z",
     "start_time": "2023-09-05T02:42:37.627430200Z"
    }
   },
   "id": "3948b10be6dbfbd1"
  },
  {
   "cell_type": "code",
   "execution_count": 56,
   "outputs": [
    {
     "ename": "ReadTimeout",
     "evalue": "",
     "output_type": "error",
     "traceback": [
      "\u001B[1;31m---------------------------------------------------------------------------\u001B[0m",
      "\u001B[1;31mSSLWantReadError\u001B[0m                          Traceback (most recent call last)",
      "File \u001B[1;32mF:\\0\\code\\PROJECTS\\SRS\\scraper\\.venv\\lib\\site-packages\\anyio\\streams\\tls.py:131\u001B[0m, in \u001B[0;36mTLSStream._call_sslobject_method\u001B[1;34m(self, func, *args)\u001B[0m\n\u001B[0;32m    130\u001B[0m \u001B[38;5;28;01mtry\u001B[39;00m:\n\u001B[1;32m--> 131\u001B[0m     result \u001B[38;5;241m=\u001B[39m \u001B[43mfunc\u001B[49m\u001B[43m(\u001B[49m\u001B[38;5;241;43m*\u001B[39;49m\u001B[43margs\u001B[49m\u001B[43m)\u001B[49m\n\u001B[0;32m    132\u001B[0m \u001B[38;5;28;01mexcept\u001B[39;00m ssl\u001B[38;5;241m.\u001B[39mSSLWantReadError:\n",
      "File \u001B[1;32mF:\\DEV\\Python\\Python310\\lib\\ssl.py:917\u001B[0m, in \u001B[0;36mSSLObject.read\u001B[1;34m(self, len, buffer)\u001B[0m\n\u001B[0;32m    916\u001B[0m \u001B[38;5;28;01melse\u001B[39;00m:\n\u001B[1;32m--> 917\u001B[0m     v \u001B[38;5;241m=\u001B[39m \u001B[38;5;28;43mself\u001B[39;49m\u001B[38;5;241;43m.\u001B[39;49m\u001B[43m_sslobj\u001B[49m\u001B[38;5;241;43m.\u001B[39;49m\u001B[43mread\u001B[49m\u001B[43m(\u001B[49m\u001B[38;5;28;43mlen\u001B[39;49m\u001B[43m)\u001B[49m\n\u001B[0;32m    918\u001B[0m \u001B[38;5;28;01mreturn\u001B[39;00m v\n",
      "\u001B[1;31mSSLWantReadError\u001B[0m: The operation did not complete (read) (_ssl.c:2578)",
      "\nDuring handling of the above exception, another exception occurred:\n",
      "\u001B[1;31mCancelledError\u001B[0m                            Traceback (most recent call last)",
      "File \u001B[1;32mF:\\0\\code\\PROJECTS\\SRS\\scraper\\.venv\\lib\\site-packages\\httpcore\\_backends\\anyio.py:34\u001B[0m, in \u001B[0;36mAnyIOStream.read\u001B[1;34m(self, max_bytes, timeout)\u001B[0m\n\u001B[0;32m     33\u001B[0m \u001B[38;5;28;01mtry\u001B[39;00m:\n\u001B[1;32m---> 34\u001B[0m     \u001B[38;5;28;01mreturn\u001B[39;00m \u001B[38;5;28;01mawait\u001B[39;00m \u001B[38;5;28mself\u001B[39m\u001B[38;5;241m.\u001B[39m_stream\u001B[38;5;241m.\u001B[39mreceive(max_bytes\u001B[38;5;241m=\u001B[39mmax_bytes)\n\u001B[0;32m     35\u001B[0m \u001B[38;5;28;01mexcept\u001B[39;00m anyio\u001B[38;5;241m.\u001B[39mEndOfStream:  \u001B[38;5;66;03m# pragma: nocover\u001B[39;00m\n",
      "File \u001B[1;32mF:\\0\\code\\PROJECTS\\SRS\\scraper\\.venv\\lib\\site-packages\\anyio\\streams\\tls.py:196\u001B[0m, in \u001B[0;36mTLSStream.receive\u001B[1;34m(self, max_bytes)\u001B[0m\n\u001B[0;32m    195\u001B[0m \u001B[38;5;28;01masync\u001B[39;00m \u001B[38;5;28;01mdef\u001B[39;00m \u001B[38;5;21mreceive\u001B[39m(\u001B[38;5;28mself\u001B[39m, max_bytes: \u001B[38;5;28mint\u001B[39m \u001B[38;5;241m=\u001B[39m \u001B[38;5;241m65536\u001B[39m) \u001B[38;5;241m-\u001B[39m\u001B[38;5;241m>\u001B[39m \u001B[38;5;28mbytes\u001B[39m:\n\u001B[1;32m--> 196\u001B[0m     data \u001B[38;5;241m=\u001B[39m \u001B[38;5;28;01mawait\u001B[39;00m \u001B[38;5;28mself\u001B[39m\u001B[38;5;241m.\u001B[39m_call_sslobject_method(\u001B[38;5;28mself\u001B[39m\u001B[38;5;241m.\u001B[39m_ssl_object\u001B[38;5;241m.\u001B[39mread, max_bytes)\n\u001B[0;32m    197\u001B[0m     \u001B[38;5;28;01mif\u001B[39;00m \u001B[38;5;129;01mnot\u001B[39;00m data:\n",
      "File \u001B[1;32mF:\\0\\code\\PROJECTS\\SRS\\scraper\\.venv\\lib\\site-packages\\anyio\\streams\\tls.py:138\u001B[0m, in \u001B[0;36mTLSStream._call_sslobject_method\u001B[1;34m(self, func, *args)\u001B[0m\n\u001B[0;32m    136\u001B[0m         \u001B[38;5;28;01mawait\u001B[39;00m \u001B[38;5;28mself\u001B[39m\u001B[38;5;241m.\u001B[39mtransport_stream\u001B[38;5;241m.\u001B[39msend(\u001B[38;5;28mself\u001B[39m\u001B[38;5;241m.\u001B[39m_write_bio\u001B[38;5;241m.\u001B[39mread())\n\u001B[1;32m--> 138\u001B[0m     data \u001B[38;5;241m=\u001B[39m \u001B[38;5;28;01mawait\u001B[39;00m \u001B[38;5;28mself\u001B[39m\u001B[38;5;241m.\u001B[39mtransport_stream\u001B[38;5;241m.\u001B[39mreceive()\n\u001B[0;32m    139\u001B[0m \u001B[38;5;28;01mexcept\u001B[39;00m EndOfStream:\n",
      "File \u001B[1;32mF:\\0\\code\\PROJECTS\\SRS\\scraper\\.venv\\lib\\site-packages\\anyio\\_backends\\_asyncio.py:1203\u001B[0m, in \u001B[0;36mSocketStream.receive\u001B[1;34m(self, max_bytes)\u001B[0m\n\u001B[0;32m   1202\u001B[0m \u001B[38;5;28mself\u001B[39m\u001B[38;5;241m.\u001B[39m_transport\u001B[38;5;241m.\u001B[39mresume_reading()\n\u001B[1;32m-> 1203\u001B[0m \u001B[38;5;28;01mawait\u001B[39;00m \u001B[38;5;28mself\u001B[39m\u001B[38;5;241m.\u001B[39m_protocol\u001B[38;5;241m.\u001B[39mread_event\u001B[38;5;241m.\u001B[39mwait()\n\u001B[0;32m   1204\u001B[0m \u001B[38;5;28mself\u001B[39m\u001B[38;5;241m.\u001B[39m_transport\u001B[38;5;241m.\u001B[39mpause_reading()\n",
      "File \u001B[1;32mF:\\DEV\\Python\\Python310\\lib\\asyncio\\locks.py:214\u001B[0m, in \u001B[0;36mEvent.wait\u001B[1;34m(self)\u001B[0m\n\u001B[0;32m    213\u001B[0m \u001B[38;5;28;01mtry\u001B[39;00m:\n\u001B[1;32m--> 214\u001B[0m     \u001B[38;5;28;01mawait\u001B[39;00m fut\n\u001B[0;32m    215\u001B[0m     \u001B[38;5;28;01mreturn\u001B[39;00m \u001B[38;5;28;01mTrue\u001B[39;00m\n",
      "\u001B[1;31mCancelledError\u001B[0m: ",
      "\nDuring handling of the above exception, another exception occurred:\n",
      "\u001B[1;31mTimeoutError\u001B[0m                              Traceback (most recent call last)",
      "File \u001B[1;32mF:\\0\\code\\PROJECTS\\SRS\\scraper\\.venv\\lib\\site-packages\\httpcore\\_exceptions.py:10\u001B[0m, in \u001B[0;36mmap_exceptions\u001B[1;34m(map)\u001B[0m\n\u001B[0;32m      9\u001B[0m \u001B[38;5;28;01mtry\u001B[39;00m:\n\u001B[1;32m---> 10\u001B[0m     \u001B[38;5;28;01myield\u001B[39;00m\n\u001B[0;32m     11\u001B[0m \u001B[38;5;28;01mexcept\u001B[39;00m \u001B[38;5;167;01mException\u001B[39;00m \u001B[38;5;28;01mas\u001B[39;00m exc:  \u001B[38;5;66;03m# noqa: PIE786\u001B[39;00m\n",
      "File \u001B[1;32mF:\\0\\code\\PROJECTS\\SRS\\scraper\\.venv\\lib\\site-packages\\httpcore\\_backends\\anyio.py:32\u001B[0m, in \u001B[0;36mAnyIOStream.read\u001B[1;34m(self, max_bytes, timeout)\u001B[0m\n\u001B[0;32m     31\u001B[0m \u001B[38;5;28;01mwith\u001B[39;00m map_exceptions(exc_map):\n\u001B[1;32m---> 32\u001B[0m     \u001B[38;5;28;01mwith\u001B[39;00m anyio\u001B[38;5;241m.\u001B[39mfail_after(timeout):\n\u001B[0;32m     33\u001B[0m         \u001B[38;5;28;01mtry\u001B[39;00m:\n",
      "File \u001B[1;32mF:\\0\\code\\PROJECTS\\SRS\\scraper\\.venv\\lib\\site-packages\\anyio\\_core\\_tasks.py:119\u001B[0m, in \u001B[0;36mFailAfterContextManager.__exit__\u001B[1;34m(self, exc_type, exc_val, exc_tb)\u001B[0m\n\u001B[0;32m    118\u001B[0m \u001B[38;5;28;01mif\u001B[39;00m \u001B[38;5;28mself\u001B[39m\u001B[38;5;241m.\u001B[39m_cancel_scope\u001B[38;5;241m.\u001B[39mcancel_called:\n\u001B[1;32m--> 119\u001B[0m     \u001B[38;5;28;01mraise\u001B[39;00m \u001B[38;5;167;01mTimeoutError\u001B[39;00m\n\u001B[0;32m    121\u001B[0m \u001B[38;5;28;01mreturn\u001B[39;00m retval\n",
      "\u001B[1;31mTimeoutError\u001B[0m: ",
      "\nThe above exception was the direct cause of the following exception:\n",
      "\u001B[1;31mReadTimeout\u001B[0m                               Traceback (most recent call last)",
      "File \u001B[1;32mF:\\0\\code\\PROJECTS\\SRS\\scraper\\.venv\\lib\\site-packages\\httpx\\_transports\\default.py:60\u001B[0m, in \u001B[0;36mmap_httpcore_exceptions\u001B[1;34m()\u001B[0m\n\u001B[0;32m     59\u001B[0m \u001B[38;5;28;01mtry\u001B[39;00m:\n\u001B[1;32m---> 60\u001B[0m     \u001B[38;5;28;01myield\u001B[39;00m\n\u001B[0;32m     61\u001B[0m \u001B[38;5;28;01mexcept\u001B[39;00m \u001B[38;5;167;01mException\u001B[39;00m \u001B[38;5;28;01mas\u001B[39;00m exc:  \u001B[38;5;66;03m# noqa: PIE-786\u001B[39;00m\n",
      "File \u001B[1;32mF:\\0\\code\\PROJECTS\\SRS\\scraper\\.venv\\lib\\site-packages\\httpx\\_transports\\default.py:353\u001B[0m, in \u001B[0;36mAsyncHTTPTransport.handle_async_request\u001B[1;34m(self, request)\u001B[0m\n\u001B[0;32m    352\u001B[0m \u001B[38;5;28;01mwith\u001B[39;00m map_httpcore_exceptions():\n\u001B[1;32m--> 353\u001B[0m     resp \u001B[38;5;241m=\u001B[39m \u001B[38;5;28;01mawait\u001B[39;00m \u001B[38;5;28mself\u001B[39m\u001B[38;5;241m.\u001B[39m_pool\u001B[38;5;241m.\u001B[39mhandle_async_request(req)\n\u001B[0;32m    355\u001B[0m \u001B[38;5;28;01massert\u001B[39;00m \u001B[38;5;28misinstance\u001B[39m(resp\u001B[38;5;241m.\u001B[39mstream, typing\u001B[38;5;241m.\u001B[39mAsyncIterable)\n",
      "File \u001B[1;32mF:\\0\\code\\PROJECTS\\SRS\\scraper\\.venv\\lib\\site-packages\\httpcore\\_async\\connection_pool.py:262\u001B[0m, in \u001B[0;36mAsyncConnectionPool.handle_async_request\u001B[1;34m(self, request)\u001B[0m\n\u001B[0;32m    261\u001B[0m         \u001B[38;5;28;01mawait\u001B[39;00m \u001B[38;5;28mself\u001B[39m\u001B[38;5;241m.\u001B[39mresponse_closed(status)\n\u001B[1;32m--> 262\u001B[0m     \u001B[38;5;28;01mraise\u001B[39;00m exc\n\u001B[0;32m    263\u001B[0m \u001B[38;5;28;01melse\u001B[39;00m:\n",
      "File \u001B[1;32mF:\\0\\code\\PROJECTS\\SRS\\scraper\\.venv\\lib\\site-packages\\httpcore\\_async\\connection_pool.py:245\u001B[0m, in \u001B[0;36mAsyncConnectionPool.handle_async_request\u001B[1;34m(self, request)\u001B[0m\n\u001B[0;32m    244\u001B[0m \u001B[38;5;28;01mtry\u001B[39;00m:\n\u001B[1;32m--> 245\u001B[0m     response \u001B[38;5;241m=\u001B[39m \u001B[38;5;28;01mawait\u001B[39;00m connection\u001B[38;5;241m.\u001B[39mhandle_async_request(request)\n\u001B[0;32m    246\u001B[0m \u001B[38;5;28;01mexcept\u001B[39;00m ConnectionNotAvailable:\n\u001B[0;32m    247\u001B[0m     \u001B[38;5;66;03m# The ConnectionNotAvailable exception is a special case, that\u001B[39;00m\n\u001B[0;32m    248\u001B[0m     \u001B[38;5;66;03m# indicates we need to retry the request on a new connection.\u001B[39;00m\n\u001B[1;32m   (...)\u001B[0m\n\u001B[0;32m    252\u001B[0m     \u001B[38;5;66;03m# might end up as an HTTP/2 connection, but which actually ends\u001B[39;00m\n\u001B[0;32m    253\u001B[0m     \u001B[38;5;66;03m# up as HTTP/1.1.\u001B[39;00m\n",
      "File \u001B[1;32mF:\\0\\code\\PROJECTS\\SRS\\scraper\\.venv\\lib\\site-packages\\httpcore\\_async\\connection.py:96\u001B[0m, in \u001B[0;36mAsyncHTTPConnection.handle_async_request\u001B[1;34m(self, request)\u001B[0m\n\u001B[0;32m     94\u001B[0m         \u001B[38;5;28;01mraise\u001B[39;00m ConnectionNotAvailable()\n\u001B[1;32m---> 96\u001B[0m \u001B[38;5;28;01mreturn\u001B[39;00m \u001B[38;5;28;01mawait\u001B[39;00m \u001B[38;5;28mself\u001B[39m\u001B[38;5;241m.\u001B[39m_connection\u001B[38;5;241m.\u001B[39mhandle_async_request(request)\n",
      "File \u001B[1;32mF:\\0\\code\\PROJECTS\\SRS\\scraper\\.venv\\lib\\site-packages\\httpcore\\_async\\http11.py:121\u001B[0m, in \u001B[0;36mAsyncHTTP11Connection.handle_async_request\u001B[1;34m(self, request)\u001B[0m\n\u001B[0;32m    120\u001B[0m         \u001B[38;5;28;01mawait\u001B[39;00m \u001B[38;5;28mself\u001B[39m\u001B[38;5;241m.\u001B[39m_response_closed()\n\u001B[1;32m--> 121\u001B[0m \u001B[38;5;28;01mraise\u001B[39;00m exc\n",
      "File \u001B[1;32mF:\\0\\code\\PROJECTS\\SRS\\scraper\\.venv\\lib\\site-packages\\httpcore\\_async\\http11.py:99\u001B[0m, in \u001B[0;36mAsyncHTTP11Connection.handle_async_request\u001B[1;34m(self, request)\u001B[0m\n\u001B[0;32m     91\u001B[0m \u001B[38;5;28;01masync\u001B[39;00m \u001B[38;5;28;01mwith\u001B[39;00m Trace(\n\u001B[0;32m     92\u001B[0m     \u001B[38;5;124m\"\u001B[39m\u001B[38;5;124mreceive_response_headers\u001B[39m\u001B[38;5;124m\"\u001B[39m, logger, request, kwargs\n\u001B[0;32m     93\u001B[0m ) \u001B[38;5;28;01mas\u001B[39;00m trace:\n\u001B[0;32m     94\u001B[0m     (\n\u001B[0;32m     95\u001B[0m         http_version,\n\u001B[0;32m     96\u001B[0m         status,\n\u001B[0;32m     97\u001B[0m         reason_phrase,\n\u001B[0;32m     98\u001B[0m         headers,\n\u001B[1;32m---> 99\u001B[0m     ) \u001B[38;5;241m=\u001B[39m \u001B[38;5;28;01mawait\u001B[39;00m \u001B[38;5;28mself\u001B[39m\u001B[38;5;241m.\u001B[39m_receive_response_headers(\u001B[38;5;241m*\u001B[39m\u001B[38;5;241m*\u001B[39mkwargs)\n\u001B[0;32m    100\u001B[0m     trace\u001B[38;5;241m.\u001B[39mreturn_value \u001B[38;5;241m=\u001B[39m (\n\u001B[0;32m    101\u001B[0m         http_version,\n\u001B[0;32m    102\u001B[0m         status,\n\u001B[0;32m    103\u001B[0m         reason_phrase,\n\u001B[0;32m    104\u001B[0m         headers,\n\u001B[0;32m    105\u001B[0m     )\n",
      "File \u001B[1;32mF:\\0\\code\\PROJECTS\\SRS\\scraper\\.venv\\lib\\site-packages\\httpcore\\_async\\http11.py:164\u001B[0m, in \u001B[0;36mAsyncHTTP11Connection._receive_response_headers\u001B[1;34m(self, request)\u001B[0m\n\u001B[0;32m    163\u001B[0m \u001B[38;5;28;01mwhile\u001B[39;00m \u001B[38;5;28;01mTrue\u001B[39;00m:\n\u001B[1;32m--> 164\u001B[0m     event \u001B[38;5;241m=\u001B[39m \u001B[38;5;28;01mawait\u001B[39;00m \u001B[38;5;28mself\u001B[39m\u001B[38;5;241m.\u001B[39m_receive_event(timeout\u001B[38;5;241m=\u001B[39mtimeout)\n\u001B[0;32m    165\u001B[0m     \u001B[38;5;28;01mif\u001B[39;00m \u001B[38;5;28misinstance\u001B[39m(event, h11\u001B[38;5;241m.\u001B[39mResponse):\n",
      "File \u001B[1;32mF:\\0\\code\\PROJECTS\\SRS\\scraper\\.venv\\lib\\site-packages\\httpcore\\_async\\http11.py:200\u001B[0m, in \u001B[0;36mAsyncHTTP11Connection._receive_event\u001B[1;34m(self, timeout)\u001B[0m\n\u001B[0;32m    199\u001B[0m \u001B[38;5;28;01mif\u001B[39;00m event \u001B[38;5;129;01mis\u001B[39;00m h11\u001B[38;5;241m.\u001B[39mNEED_DATA:\n\u001B[1;32m--> 200\u001B[0m     data \u001B[38;5;241m=\u001B[39m \u001B[38;5;28;01mawait\u001B[39;00m \u001B[38;5;28mself\u001B[39m\u001B[38;5;241m.\u001B[39m_network_stream\u001B[38;5;241m.\u001B[39mread(\n\u001B[0;32m    201\u001B[0m         \u001B[38;5;28mself\u001B[39m\u001B[38;5;241m.\u001B[39mREAD_NUM_BYTES, timeout\u001B[38;5;241m=\u001B[39mtimeout\n\u001B[0;32m    202\u001B[0m     )\n\u001B[0;32m    204\u001B[0m     \u001B[38;5;66;03m# If we feed this case through h11 we'll raise an exception like:\u001B[39;00m\n\u001B[0;32m    205\u001B[0m     \u001B[38;5;66;03m#\u001B[39;00m\n\u001B[0;32m    206\u001B[0m     \u001B[38;5;66;03m#     httpcore.RemoteProtocolError: can't handle event type\u001B[39;00m\n\u001B[1;32m   (...)\u001B[0m\n\u001B[0;32m    210\u001B[0m     \u001B[38;5;66;03m# perspective. Instead we handle this case distinctly and treat\u001B[39;00m\n\u001B[0;32m    211\u001B[0m     \u001B[38;5;66;03m# it as a ConnectError.\u001B[39;00m\n",
      "File \u001B[1;32mF:\\0\\code\\PROJECTS\\SRS\\scraper\\.venv\\lib\\site-packages\\httpcore\\_backends\\anyio.py:31\u001B[0m, in \u001B[0;36mAnyIOStream.read\u001B[1;34m(self, max_bytes, timeout)\u001B[0m\n\u001B[0;32m     26\u001B[0m exc_map \u001B[38;5;241m=\u001B[39m {\n\u001B[0;32m     27\u001B[0m     \u001B[38;5;167;01mTimeoutError\u001B[39;00m: ReadTimeout,\n\u001B[0;32m     28\u001B[0m     anyio\u001B[38;5;241m.\u001B[39mBrokenResourceError: ReadError,\n\u001B[0;32m     29\u001B[0m     anyio\u001B[38;5;241m.\u001B[39mClosedResourceError: ReadError,\n\u001B[0;32m     30\u001B[0m }\n\u001B[1;32m---> 31\u001B[0m \u001B[38;5;28;01mwith\u001B[39;00m map_exceptions(exc_map):\n\u001B[0;32m     32\u001B[0m     \u001B[38;5;28;01mwith\u001B[39;00m anyio\u001B[38;5;241m.\u001B[39mfail_after(timeout):\n",
      "File \u001B[1;32mF:\\DEV\\Python\\Python310\\lib\\contextlib.py:153\u001B[0m, in \u001B[0;36m_GeneratorContextManager.__exit__\u001B[1;34m(self, typ, value, traceback)\u001B[0m\n\u001B[0;32m    152\u001B[0m \u001B[38;5;28;01mtry\u001B[39;00m:\n\u001B[1;32m--> 153\u001B[0m     \u001B[38;5;28;43mself\u001B[39;49m\u001B[38;5;241;43m.\u001B[39;49m\u001B[43mgen\u001B[49m\u001B[38;5;241;43m.\u001B[39;49m\u001B[43mthrow\u001B[49m\u001B[43m(\u001B[49m\u001B[43mtyp\u001B[49m\u001B[43m,\u001B[49m\u001B[43m \u001B[49m\u001B[43mvalue\u001B[49m\u001B[43m,\u001B[49m\u001B[43m \u001B[49m\u001B[43mtraceback\u001B[49m\u001B[43m)\u001B[49m\n\u001B[0;32m    154\u001B[0m \u001B[38;5;28;01mexcept\u001B[39;00m \u001B[38;5;167;01mStopIteration\u001B[39;00m \u001B[38;5;28;01mas\u001B[39;00m exc:\n\u001B[0;32m    155\u001B[0m     \u001B[38;5;66;03m# Suppress StopIteration *unless* it's the same exception that\u001B[39;00m\n\u001B[0;32m    156\u001B[0m     \u001B[38;5;66;03m# was passed to throw().  This prevents a StopIteration\u001B[39;00m\n\u001B[0;32m    157\u001B[0m     \u001B[38;5;66;03m# raised inside the \"with\" statement from being suppressed.\u001B[39;00m\n",
      "File \u001B[1;32mF:\\0\\code\\PROJECTS\\SRS\\scraper\\.venv\\lib\\site-packages\\httpcore\\_exceptions.py:14\u001B[0m, in \u001B[0;36mmap_exceptions\u001B[1;34m(map)\u001B[0m\n\u001B[0;32m     13\u001B[0m     \u001B[38;5;28;01mif\u001B[39;00m \u001B[38;5;28misinstance\u001B[39m(exc, from_exc):\n\u001B[1;32m---> 14\u001B[0m         \u001B[38;5;28;01mraise\u001B[39;00m to_exc(exc) \u001B[38;5;28;01mfrom\u001B[39;00m \u001B[38;5;21;01mexc\u001B[39;00m\n\u001B[0;32m     15\u001B[0m \u001B[38;5;28;01mraise\u001B[39;00m\n",
      "\u001B[1;31mReadTimeout\u001B[0m: ",
      "\nThe above exception was the direct cause of the following exception:\n",
      "\u001B[1;31mReadTimeout\u001B[0m                               Traceback (most recent call last)",
      "Cell \u001B[1;32mIn[56], line 8\u001B[0m\n\u001B[0;32m      4\u001B[0m     prs \u001B[38;5;241m=\u001B[39m \u001B[38;5;28;01mawait\u001B[39;00m get_prs(nodes)\n\u001B[0;32m      5\u001B[0m     \u001B[38;5;28mprint\u001B[39m(json\u001B[38;5;241m.\u001B[39mdumps(prs, indent\u001B[38;5;241m=\u001B[39m\u001B[38;5;241m4\u001B[39m))\n\u001B[1;32m----> 8\u001B[0m \u001B[38;5;28;01mawait\u001B[39;00m main()\n",
      "Cell \u001B[1;32mIn[56], line 4\u001B[0m, in \u001B[0;36mmain\u001B[1;34m()\u001B[0m\n\u001B[0;32m      2\u001B[0m repos \u001B[38;5;241m=\u001B[39m \u001B[38;5;28;01mawait\u001B[39;00m get_repos()    \n\u001B[0;32m      3\u001B[0m nodes \u001B[38;5;241m=\u001B[39m [node_dicts[\u001B[38;5;124m'\u001B[39m\u001B[38;5;124mnode\u001B[39m\u001B[38;5;124m'\u001B[39m][\u001B[38;5;124m'\u001B[39m\u001B[38;5;124mid\u001B[39m\u001B[38;5;124m'\u001B[39m] \u001B[38;5;28;01mfor\u001B[39;00m node_dicts \u001B[38;5;129;01min\u001B[39;00m repos[\u001B[38;5;124m'\u001B[39m\u001B[38;5;124mdata\u001B[39m\u001B[38;5;124m'\u001B[39m][\u001B[38;5;124m'\u001B[39m\u001B[38;5;124msearch\u001B[39m\u001B[38;5;124m'\u001B[39m][\u001B[38;5;124m'\u001B[39m\u001B[38;5;124medges\u001B[39m\u001B[38;5;124m'\u001B[39m]]\n\u001B[1;32m----> 4\u001B[0m prs \u001B[38;5;241m=\u001B[39m \u001B[38;5;28;01mawait\u001B[39;00m get_prs(nodes)\n\u001B[0;32m      5\u001B[0m \u001B[38;5;28mprint\u001B[39m(json\u001B[38;5;241m.\u001B[39mdumps(prs, indent\u001B[38;5;241m=\u001B[39m\u001B[38;5;241m4\u001B[39m))\n",
      "Cell \u001B[1;32mIn[55], line 18\u001B[0m, in \u001B[0;36mget_prs\u001B[1;34m(repoIds)\u001B[0m\n\u001B[0;32m     16\u001B[0m \u001B[38;5;28;01masync\u001B[39;00m \u001B[38;5;28;01mdef\u001B[39;00m \u001B[38;5;21mget_prs\u001B[39m(repoIds: \u001B[38;5;28mlist\u001B[39m):\n\u001B[0;32m     17\u001B[0m     \u001B[38;5;28;01masync\u001B[39;00m \u001B[38;5;28;01mwith\u001B[39;00m httpx\u001B[38;5;241m.\u001B[39mAsyncClient() \u001B[38;5;28;01mas\u001B[39;00m client:\n\u001B[1;32m---> 18\u001B[0m         response \u001B[38;5;241m=\u001B[39m \u001B[38;5;28;01mawait\u001B[39;00m client\u001B[38;5;241m.\u001B[39mpost(\n\u001B[0;32m     19\u001B[0m             api_url, \n\u001B[0;32m     20\u001B[0m             json\u001B[38;5;241m=\u001B[39m{\n\u001B[0;32m     21\u001B[0m                 \u001B[38;5;124m\"\u001B[39m\u001B[38;5;124mquery\u001B[39m\u001B[38;5;124m\"\u001B[39m: pr_query,\n\u001B[0;32m     22\u001B[0m                 \u001B[38;5;124m\"\u001B[39m\u001B[38;5;124mvariables\u001B[39m\u001B[38;5;124m\"\u001B[39m: {\n\u001B[0;32m     23\u001B[0m                     \u001B[38;5;124m\"\u001B[39m\u001B[38;5;124mrepoIds\u001B[39m\u001B[38;5;124m\"\u001B[39m: repoIds,\n\u001B[0;32m     24\u001B[0m                     \u001B[38;5;124m\"\u001B[39m\u001B[38;5;124mendCursor\u001B[39m\u001B[38;5;124m\"\u001B[39m: \u001B[38;5;28;01mNone\u001B[39;00m\n\u001B[0;32m     25\u001B[0m                 }\n\u001B[0;32m     26\u001B[0m             },\n\u001B[0;32m     27\u001B[0m             headers\u001B[38;5;241m=\u001B[39m{\n\u001B[0;32m     28\u001B[0m                 \u001B[38;5;124m\"\u001B[39m\u001B[38;5;124mAuthorization\u001B[39m\u001B[38;5;124m\"\u001B[39m: \u001B[38;5;124mf\u001B[39m\u001B[38;5;124m\"\u001B[39m\u001B[38;5;124mBearer \u001B[39m\u001B[38;5;132;01m{\u001B[39;00msettings\u001B[38;5;241m.\u001B[39mgh_token\u001B[38;5;132;01m}\u001B[39;00m\u001B[38;5;124m\"\u001B[39m\n\u001B[0;32m     29\u001B[0m             }\n\u001B[0;32m     30\u001B[0m         )\n\u001B[0;32m     31\u001B[0m         result \u001B[38;5;241m=\u001B[39m response\u001B[38;5;241m.\u001B[39mjson()\n\u001B[0;32m     33\u001B[0m         \u001B[38;5;28;01mreturn\u001B[39;00m result\n",
      "File \u001B[1;32mF:\\0\\code\\PROJECTS\\SRS\\scraper\\.venv\\lib\\site-packages\\httpx\\_client.py:1848\u001B[0m, in \u001B[0;36mAsyncClient.post\u001B[1;34m(self, url, content, data, files, json, params, headers, cookies, auth, follow_redirects, timeout, extensions)\u001B[0m\n\u001B[0;32m   1827\u001B[0m \u001B[38;5;28;01masync\u001B[39;00m \u001B[38;5;28;01mdef\u001B[39;00m \u001B[38;5;21mpost\u001B[39m(\n\u001B[0;32m   1828\u001B[0m     \u001B[38;5;28mself\u001B[39m,\n\u001B[0;32m   1829\u001B[0m     url: URLTypes,\n\u001B[1;32m   (...)\u001B[0m\n\u001B[0;32m   1841\u001B[0m     extensions: typing\u001B[38;5;241m.\u001B[39mOptional[RequestExtensions] \u001B[38;5;241m=\u001B[39m \u001B[38;5;28;01mNone\u001B[39;00m,\n\u001B[0;32m   1842\u001B[0m ) \u001B[38;5;241m-\u001B[39m\u001B[38;5;241m>\u001B[39m Response:\n\u001B[0;32m   1843\u001B[0m \u001B[38;5;250m    \u001B[39m\u001B[38;5;124;03m\"\"\"\u001B[39;00m\n\u001B[0;32m   1844\u001B[0m \u001B[38;5;124;03m    Send a `POST` request.\u001B[39;00m\n\u001B[0;32m   1845\u001B[0m \n\u001B[0;32m   1846\u001B[0m \u001B[38;5;124;03m    **Parameters**: See `httpx.request`.\u001B[39;00m\n\u001B[0;32m   1847\u001B[0m \u001B[38;5;124;03m    \"\"\"\u001B[39;00m\n\u001B[1;32m-> 1848\u001B[0m     \u001B[38;5;28;01mreturn\u001B[39;00m \u001B[38;5;28;01mawait\u001B[39;00m \u001B[38;5;28mself\u001B[39m\u001B[38;5;241m.\u001B[39mrequest(\n\u001B[0;32m   1849\u001B[0m         \u001B[38;5;124m\"\u001B[39m\u001B[38;5;124mPOST\u001B[39m\u001B[38;5;124m\"\u001B[39m,\n\u001B[0;32m   1850\u001B[0m         url,\n\u001B[0;32m   1851\u001B[0m         content\u001B[38;5;241m=\u001B[39mcontent,\n\u001B[0;32m   1852\u001B[0m         data\u001B[38;5;241m=\u001B[39mdata,\n\u001B[0;32m   1853\u001B[0m         files\u001B[38;5;241m=\u001B[39mfiles,\n\u001B[0;32m   1854\u001B[0m         json\u001B[38;5;241m=\u001B[39mjson,\n\u001B[0;32m   1855\u001B[0m         params\u001B[38;5;241m=\u001B[39mparams,\n\u001B[0;32m   1856\u001B[0m         headers\u001B[38;5;241m=\u001B[39mheaders,\n\u001B[0;32m   1857\u001B[0m         cookies\u001B[38;5;241m=\u001B[39mcookies,\n\u001B[0;32m   1858\u001B[0m         auth\u001B[38;5;241m=\u001B[39mauth,\n\u001B[0;32m   1859\u001B[0m         follow_redirects\u001B[38;5;241m=\u001B[39mfollow_redirects,\n\u001B[0;32m   1860\u001B[0m         timeout\u001B[38;5;241m=\u001B[39mtimeout,\n\u001B[0;32m   1861\u001B[0m         extensions\u001B[38;5;241m=\u001B[39mextensions,\n\u001B[0;32m   1862\u001B[0m     )\n",
      "File \u001B[1;32mF:\\0\\code\\PROJECTS\\SRS\\scraper\\.venv\\lib\\site-packages\\httpx\\_client.py:1530\u001B[0m, in \u001B[0;36mAsyncClient.request\u001B[1;34m(self, method, url, content, data, files, json, params, headers, cookies, auth, follow_redirects, timeout, extensions)\u001B[0m\n\u001B[0;32m   1501\u001B[0m \u001B[38;5;250m\u001B[39m\u001B[38;5;124;03m\"\"\"\u001B[39;00m\n\u001B[0;32m   1502\u001B[0m \u001B[38;5;124;03mBuild and send a request.\u001B[39;00m\n\u001B[0;32m   1503\u001B[0m \n\u001B[1;32m   (...)\u001B[0m\n\u001B[0;32m   1515\u001B[0m \u001B[38;5;124;03m[0]: /advanced/#merging-of-configuration\u001B[39;00m\n\u001B[0;32m   1516\u001B[0m \u001B[38;5;124;03m\"\"\"\u001B[39;00m\n\u001B[0;32m   1517\u001B[0m request \u001B[38;5;241m=\u001B[39m \u001B[38;5;28mself\u001B[39m\u001B[38;5;241m.\u001B[39mbuild_request(\n\u001B[0;32m   1518\u001B[0m     method\u001B[38;5;241m=\u001B[39mmethod,\n\u001B[0;32m   1519\u001B[0m     url\u001B[38;5;241m=\u001B[39murl,\n\u001B[1;32m   (...)\u001B[0m\n\u001B[0;32m   1528\u001B[0m     extensions\u001B[38;5;241m=\u001B[39mextensions,\n\u001B[0;32m   1529\u001B[0m )\n\u001B[1;32m-> 1530\u001B[0m \u001B[38;5;28;01mreturn\u001B[39;00m \u001B[38;5;28;01mawait\u001B[39;00m \u001B[38;5;28mself\u001B[39m\u001B[38;5;241m.\u001B[39msend(request, auth\u001B[38;5;241m=\u001B[39mauth, follow_redirects\u001B[38;5;241m=\u001B[39mfollow_redirects)\n",
      "File \u001B[1;32mF:\\0\\code\\PROJECTS\\SRS\\scraper\\.venv\\lib\\site-packages\\httpx\\_client.py:1617\u001B[0m, in \u001B[0;36mAsyncClient.send\u001B[1;34m(self, request, stream, auth, follow_redirects)\u001B[0m\n\u001B[0;32m   1609\u001B[0m follow_redirects \u001B[38;5;241m=\u001B[39m (\n\u001B[0;32m   1610\u001B[0m     \u001B[38;5;28mself\u001B[39m\u001B[38;5;241m.\u001B[39mfollow_redirects\n\u001B[0;32m   1611\u001B[0m     \u001B[38;5;28;01mif\u001B[39;00m \u001B[38;5;28misinstance\u001B[39m(follow_redirects, UseClientDefault)\n\u001B[0;32m   1612\u001B[0m     \u001B[38;5;28;01melse\u001B[39;00m follow_redirects\n\u001B[0;32m   1613\u001B[0m )\n\u001B[0;32m   1615\u001B[0m auth \u001B[38;5;241m=\u001B[39m \u001B[38;5;28mself\u001B[39m\u001B[38;5;241m.\u001B[39m_build_request_auth(request, auth)\n\u001B[1;32m-> 1617\u001B[0m response \u001B[38;5;241m=\u001B[39m \u001B[38;5;28;01mawait\u001B[39;00m \u001B[38;5;28mself\u001B[39m\u001B[38;5;241m.\u001B[39m_send_handling_auth(\n\u001B[0;32m   1618\u001B[0m     request,\n\u001B[0;32m   1619\u001B[0m     auth\u001B[38;5;241m=\u001B[39mauth,\n\u001B[0;32m   1620\u001B[0m     follow_redirects\u001B[38;5;241m=\u001B[39mfollow_redirects,\n\u001B[0;32m   1621\u001B[0m     history\u001B[38;5;241m=\u001B[39m[],\n\u001B[0;32m   1622\u001B[0m )\n\u001B[0;32m   1623\u001B[0m \u001B[38;5;28;01mtry\u001B[39;00m:\n\u001B[0;32m   1624\u001B[0m     \u001B[38;5;28;01mif\u001B[39;00m \u001B[38;5;129;01mnot\u001B[39;00m stream:\n",
      "File \u001B[1;32mF:\\0\\code\\PROJECTS\\SRS\\scraper\\.venv\\lib\\site-packages\\httpx\\_client.py:1645\u001B[0m, in \u001B[0;36mAsyncClient._send_handling_auth\u001B[1;34m(self, request, auth, follow_redirects, history)\u001B[0m\n\u001B[0;32m   1642\u001B[0m request \u001B[38;5;241m=\u001B[39m \u001B[38;5;28;01mawait\u001B[39;00m auth_flow\u001B[38;5;241m.\u001B[39m\u001B[38;5;21m__anext__\u001B[39m()\n\u001B[0;32m   1644\u001B[0m \u001B[38;5;28;01mwhile\u001B[39;00m \u001B[38;5;28;01mTrue\u001B[39;00m:\n\u001B[1;32m-> 1645\u001B[0m     response \u001B[38;5;241m=\u001B[39m \u001B[38;5;28;01mawait\u001B[39;00m \u001B[38;5;28mself\u001B[39m\u001B[38;5;241m.\u001B[39m_send_handling_redirects(\n\u001B[0;32m   1646\u001B[0m         request,\n\u001B[0;32m   1647\u001B[0m         follow_redirects\u001B[38;5;241m=\u001B[39mfollow_redirects,\n\u001B[0;32m   1648\u001B[0m         history\u001B[38;5;241m=\u001B[39mhistory,\n\u001B[0;32m   1649\u001B[0m     )\n\u001B[0;32m   1650\u001B[0m     \u001B[38;5;28;01mtry\u001B[39;00m:\n\u001B[0;32m   1651\u001B[0m         \u001B[38;5;28;01mtry\u001B[39;00m:\n",
      "File \u001B[1;32mF:\\0\\code\\PROJECTS\\SRS\\scraper\\.venv\\lib\\site-packages\\httpx\\_client.py:1682\u001B[0m, in \u001B[0;36mAsyncClient._send_handling_redirects\u001B[1;34m(self, request, follow_redirects, history)\u001B[0m\n\u001B[0;32m   1679\u001B[0m \u001B[38;5;28;01mfor\u001B[39;00m hook \u001B[38;5;129;01min\u001B[39;00m \u001B[38;5;28mself\u001B[39m\u001B[38;5;241m.\u001B[39m_event_hooks[\u001B[38;5;124m\"\u001B[39m\u001B[38;5;124mrequest\u001B[39m\u001B[38;5;124m\"\u001B[39m]:\n\u001B[0;32m   1680\u001B[0m     \u001B[38;5;28;01mawait\u001B[39;00m hook(request)\n\u001B[1;32m-> 1682\u001B[0m response \u001B[38;5;241m=\u001B[39m \u001B[38;5;28;01mawait\u001B[39;00m \u001B[38;5;28mself\u001B[39m\u001B[38;5;241m.\u001B[39m_send_single_request(request)\n\u001B[0;32m   1683\u001B[0m \u001B[38;5;28;01mtry\u001B[39;00m:\n\u001B[0;32m   1684\u001B[0m     \u001B[38;5;28;01mfor\u001B[39;00m hook \u001B[38;5;129;01min\u001B[39;00m \u001B[38;5;28mself\u001B[39m\u001B[38;5;241m.\u001B[39m_event_hooks[\u001B[38;5;124m\"\u001B[39m\u001B[38;5;124mresponse\u001B[39m\u001B[38;5;124m\"\u001B[39m]:\n",
      "File \u001B[1;32mF:\\0\\code\\PROJECTS\\SRS\\scraper\\.venv\\lib\\site-packages\\httpx\\_client.py:1719\u001B[0m, in \u001B[0;36mAsyncClient._send_single_request\u001B[1;34m(self, request)\u001B[0m\n\u001B[0;32m   1714\u001B[0m     \u001B[38;5;28;01mraise\u001B[39;00m \u001B[38;5;167;01mRuntimeError\u001B[39;00m(\n\u001B[0;32m   1715\u001B[0m         \u001B[38;5;124m\"\u001B[39m\u001B[38;5;124mAttempted to send an sync request with an AsyncClient instance.\u001B[39m\u001B[38;5;124m\"\u001B[39m\n\u001B[0;32m   1716\u001B[0m     )\n\u001B[0;32m   1718\u001B[0m \u001B[38;5;28;01mwith\u001B[39;00m request_context(request\u001B[38;5;241m=\u001B[39mrequest):\n\u001B[1;32m-> 1719\u001B[0m     response \u001B[38;5;241m=\u001B[39m \u001B[38;5;28;01mawait\u001B[39;00m transport\u001B[38;5;241m.\u001B[39mhandle_async_request(request)\n\u001B[0;32m   1721\u001B[0m \u001B[38;5;28;01massert\u001B[39;00m \u001B[38;5;28misinstance\u001B[39m(response\u001B[38;5;241m.\u001B[39mstream, AsyncByteStream)\n\u001B[0;32m   1722\u001B[0m response\u001B[38;5;241m.\u001B[39mrequest \u001B[38;5;241m=\u001B[39m request\n",
      "File \u001B[1;32mF:\\0\\code\\PROJECTS\\SRS\\scraper\\.venv\\lib\\site-packages\\httpx\\_transports\\default.py:352\u001B[0m, in \u001B[0;36mAsyncHTTPTransport.handle_async_request\u001B[1;34m(self, request)\u001B[0m\n\u001B[0;32m    338\u001B[0m \u001B[38;5;28;01massert\u001B[39;00m \u001B[38;5;28misinstance\u001B[39m(request\u001B[38;5;241m.\u001B[39mstream, AsyncByteStream)\n\u001B[0;32m    340\u001B[0m req \u001B[38;5;241m=\u001B[39m httpcore\u001B[38;5;241m.\u001B[39mRequest(\n\u001B[0;32m    341\u001B[0m     method\u001B[38;5;241m=\u001B[39mrequest\u001B[38;5;241m.\u001B[39mmethod,\n\u001B[0;32m    342\u001B[0m     url\u001B[38;5;241m=\u001B[39mhttpcore\u001B[38;5;241m.\u001B[39mURL(\n\u001B[1;32m   (...)\u001B[0m\n\u001B[0;32m    350\u001B[0m     extensions\u001B[38;5;241m=\u001B[39mrequest\u001B[38;5;241m.\u001B[39mextensions,\n\u001B[0;32m    351\u001B[0m )\n\u001B[1;32m--> 352\u001B[0m \u001B[38;5;28;01mwith\u001B[39;00m map_httpcore_exceptions():\n\u001B[0;32m    353\u001B[0m     resp \u001B[38;5;241m=\u001B[39m \u001B[38;5;28;01mawait\u001B[39;00m \u001B[38;5;28mself\u001B[39m\u001B[38;5;241m.\u001B[39m_pool\u001B[38;5;241m.\u001B[39mhandle_async_request(req)\n\u001B[0;32m    355\u001B[0m \u001B[38;5;28;01massert\u001B[39;00m \u001B[38;5;28misinstance\u001B[39m(resp\u001B[38;5;241m.\u001B[39mstream, typing\u001B[38;5;241m.\u001B[39mAsyncIterable)\n",
      "File \u001B[1;32mF:\\DEV\\Python\\Python310\\lib\\contextlib.py:153\u001B[0m, in \u001B[0;36m_GeneratorContextManager.__exit__\u001B[1;34m(self, typ, value, traceback)\u001B[0m\n\u001B[0;32m    151\u001B[0m     value \u001B[38;5;241m=\u001B[39m typ()\n\u001B[0;32m    152\u001B[0m \u001B[38;5;28;01mtry\u001B[39;00m:\n\u001B[1;32m--> 153\u001B[0m     \u001B[38;5;28;43mself\u001B[39;49m\u001B[38;5;241;43m.\u001B[39;49m\u001B[43mgen\u001B[49m\u001B[38;5;241;43m.\u001B[39;49m\u001B[43mthrow\u001B[49m\u001B[43m(\u001B[49m\u001B[43mtyp\u001B[49m\u001B[43m,\u001B[49m\u001B[43m \u001B[49m\u001B[43mvalue\u001B[49m\u001B[43m,\u001B[49m\u001B[43m \u001B[49m\u001B[43mtraceback\u001B[49m\u001B[43m)\u001B[49m\n\u001B[0;32m    154\u001B[0m \u001B[38;5;28;01mexcept\u001B[39;00m \u001B[38;5;167;01mStopIteration\u001B[39;00m \u001B[38;5;28;01mas\u001B[39;00m exc:\n\u001B[0;32m    155\u001B[0m     \u001B[38;5;66;03m# Suppress StopIteration *unless* it's the same exception that\u001B[39;00m\n\u001B[0;32m    156\u001B[0m     \u001B[38;5;66;03m# was passed to throw().  This prevents a StopIteration\u001B[39;00m\n\u001B[0;32m    157\u001B[0m     \u001B[38;5;66;03m# raised inside the \"with\" statement from being suppressed.\u001B[39;00m\n\u001B[0;32m    158\u001B[0m     \u001B[38;5;28;01mreturn\u001B[39;00m exc \u001B[38;5;129;01mis\u001B[39;00m \u001B[38;5;129;01mnot\u001B[39;00m value\n",
      "File \u001B[1;32mF:\\0\\code\\PROJECTS\\SRS\\scraper\\.venv\\lib\\site-packages\\httpx\\_transports\\default.py:77\u001B[0m, in \u001B[0;36mmap_httpcore_exceptions\u001B[1;34m()\u001B[0m\n\u001B[0;32m     74\u001B[0m     \u001B[38;5;28;01mraise\u001B[39;00m\n\u001B[0;32m     76\u001B[0m message \u001B[38;5;241m=\u001B[39m \u001B[38;5;28mstr\u001B[39m(exc)\n\u001B[1;32m---> 77\u001B[0m \u001B[38;5;28;01mraise\u001B[39;00m mapped_exc(message) \u001B[38;5;28;01mfrom\u001B[39;00m \u001B[38;5;21;01mexc\u001B[39;00m\n",
      "\u001B[1;31mReadTimeout\u001B[0m: "
     ]
    }
   ],
   "source": [
    "async def main():\n",
    "    repos = await get_repos()    \n",
    "    nodes = [node_dicts['node']['id'] for node_dicts in repos['data']['search']['edges']]\n",
    "    prs = await get_prs(nodes)\n",
    "    print(json.dumps(prs, indent=4))\n",
    "    \n",
    "    \n",
    "await main()"
   ],
   "metadata": {
    "collapsed": false,
    "ExecuteTime": {
     "end_time": "2023-09-05T02:42:44.482601800Z",
     "start_time": "2023-09-05T02:42:37.637435500Z"
    }
   },
   "id": "ef4396d7ada70f25"
  },
  {
   "cell_type": "code",
   "execution_count": null,
   "outputs": [],
   "source": [],
   "metadata": {
    "collapsed": false,
    "ExecuteTime": {
     "start_time": "2023-09-05T02:42:44.478602500Z"
    }
   },
   "id": "baa759ff9656ddff"
  }
 ],
 "metadata": {
  "kernelspec": {
   "display_name": "Python 3",
   "language": "python",
   "name": "python3"
  },
  "language_info": {
   "codemirror_mode": {
    "name": "ipython",
    "version": 2
   },
   "file_extension": ".py",
   "mimetype": "text/x-python",
   "name": "python",
   "nbconvert_exporter": "python",
   "pygments_lexer": "ipython2",
   "version": "2.7.6"
  }
 },
 "nbformat": 4,
 "nbformat_minor": 5
}
