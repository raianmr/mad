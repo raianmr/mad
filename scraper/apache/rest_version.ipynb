﻿{
 "cells": [
  {
   "cell_type": "code",
   "execution_count": 62,
   "id": "initial_id",
   "metadata": {
    "collapsed": true,
    "ExecuteTime": {
     "end_time": "2023-10-30T01:17:46.994984200Z",
     "start_time": "2023-10-30T01:17:46.990984400Z"
    }
   },
   "outputs": [],
   "source": [
    "import re\n",
    "import json\n",
    "from pathlib import Path\n",
    "\n",
    "import asyncio\n",
    "# import httpx\n",
    "import requests\n",
    "\n",
    "from scraper.data import settings, repos"
   ]
  },
  {
   "cell_type": "code",
   "execution_count": 2,
   "outputs": [],
   "source": [
    "gh_headers={\"Authorization\": f\"Bearer {settings.gh_token}\"}\n",
    "jira_headers={\"Authorization\": f\"Bearer {settings.jira_token}\"}"
   ],
   "metadata": {
    "collapsed": false,
    "ExecuteTime": {
     "end_time": "2023-10-30T00:13:30.813758600Z",
     "start_time": "2023-10-30T00:13:30.810757900Z"
    }
   },
   "id": "a57f3fb62c8aa580"
  },
  {
   "cell_type": "code",
   "execution_count": 83,
   "outputs": [],
   "source": [
    "response = requests.get(repos[0].jira_url, headers=jira_headers)\n",
    "issues = response.json()"
   ],
   "metadata": {
    "collapsed": false,
    "ExecuteTime": {
     "end_time": "2023-10-30T01:56:35.432103600Z",
     "start_time": "2023-10-30T01:56:34.408111500Z"
    }
   },
   "id": "8f312d9068cc6f89"
  },
  {
   "cell_type": "code",
   "execution_count": 86,
   "outputs": [
    {
     "name": "stdout",
     "output_type": "stream",
     "text": [
      "['fixVersions', 'resolution', 'lastViewed', 'priority', 'labels', 'aggregatetimeoriginalestimate', 'timeestimate', 'versions', 'issuelinks', 'assignee', 'status', 'components', 'aggregatetimeestimate', 'creator', 'subtasks', 'reporter', 'aggregateprogress', 'progress', 'votes', 'issuetype', 'timespent', 'project', 'aggregatetimespent', 'resolutiondate', 'workratio', 'watches', 'created', 'updated', 'timeoriginalestimate', 'description', 'summary', 'environment', 'duedate']\n"
     ]
    }
   ],
   "source": [
    "issue = issues['issues'][0]\n",
    "fields = issue['fields']\n",
    "# print(json.dumps(fields, indent=4))\n",
    "\n",
    "valid_fields = [key for key in fields.keys() if not key.startswith('customfield')]\n",
    "print(valid_fields)\n",
    "\n"
   ],
   "metadata": {
    "collapsed": false,
    "ExecuteTime": {
     "end_time": "2023-10-30T01:57:11.697452Z",
     "start_time": "2023-10-30T01:57:11.694450900Z"
    }
   },
   "id": "8458843737597251"
  },
  {
   "cell_type": "code",
   "execution_count": 89,
   "outputs": [
    {
     "name": "stdout",
     "output_type": "stream",
     "text": [
      "fixVersions: ///[]///\n",
      "resolution: ///None///\n",
      "lastViewed: ///None///\n",
      "priority: ///{'self': 'https://issues.apache.org/jira/rest/api/2/priority/4', 'iconUrl': 'https://issues.apache.org/jira/images/icons/priorities/minor.svg', 'name': 'Minor', 'id': '4'}///\n",
      "labels: ///['pull-request-available']///\n",
      "aggregatetimeoriginalestimate: ///None///\n",
      "timeestimate: ///None///\n",
      "versions: ///[{'self': 'https://issues.apache.org/jira/rest/api/2/version/12353359', 'id': '12353359', 'name': '4.0.0', 'archived': False, 'released': False}]///\n",
      "issuelinks: ///[]///\n",
      "assignee: ///None///\n",
      "status: ///{'self': 'https://issues.apache.org/jira/rest/api/2/status/1', 'description': 'The issue is open and ready for the assignee to start work on it.', 'iconUrl': 'https://issues.apache.org/jira/images/icons/statuses/open.png', 'name': 'Open', 'id': '1', 'statusCategory': {'self': 'https://issues.apache.org/jira/rest/api/2/statuscategory/2', 'id': 2, 'key': 'new', 'colorName': 'blue-gray', 'name': 'To Do'}}///\n",
      "components: ///[{'self': 'https://issues.apache.org/jira/rest/api/2/component/12338540', 'id': '12338540', 'name': 'Connect'}, {'self': 'https://issues.apache.org/jira/rest/api/2/component/12322606', 'id': '12322606', 'name': 'PySpark', 'description': 'Spark Python API'}]///\n",
      "aggregatetimeestimate: ///None///\n",
      "creator: ///{'self': 'https://issues.apache.org/jira/rest/api/2/user?username=khalidmammadov9%40gmail.com', 'name': 'khalidmammadov9@gmail.com', 'key': 'JIRAUSER284054', 'avatarUrls': {'48x48': 'https://issues.apache.org/jira/secure/useravatar?avatarId=34059', '24x24': 'https://issues.apache.org/jira/secure/useravatar?size=small&avatarId=34059', '16x16': 'https://issues.apache.org/jira/secure/useravatar?size=xsmall&avatarId=34059', '32x32': 'https://issues.apache.org/jira/secure/useravatar?size=medium&avatarId=34059'}, 'displayName': 'Khalid Mammadov', 'active': True, 'timeZone': 'Etc/UTC'}///\n",
      "subtasks: ///[]///\n",
      "reporter: ///{'self': 'https://issues.apache.org/jira/rest/api/2/user?username=khalidmammadov9%40gmail.com', 'name': 'khalidmammadov9@gmail.com', 'key': 'JIRAUSER284054', 'avatarUrls': {'48x48': 'https://issues.apache.org/jira/secure/useravatar?avatarId=34059', '24x24': 'https://issues.apache.org/jira/secure/useravatar?size=small&avatarId=34059', '16x16': 'https://issues.apache.org/jira/secure/useravatar?size=xsmall&avatarId=34059', '32x32': 'https://issues.apache.org/jira/secure/useravatar?size=medium&avatarId=34059'}, 'displayName': 'Khalid Mammadov', 'active': True, 'timeZone': 'Etc/UTC'}///\n",
      "aggregateprogress: ///{'progress': 0, 'total': 0}///\n",
      "progress: ///{'progress': 0, 'total': 0}///\n",
      "votes: ///{'self': 'https://issues.apache.org/jira/rest/api/2/issue/SPARK-45716/votes', 'votes': 0, 'hasVoted': False}///\n",
      "issuetype: ///{'self': 'https://issues.apache.org/jira/rest/api/2/issuetype/4', 'id': '4', 'description': 'An improvement or enhancement to an existing feature or task.', 'iconUrl': 'https://issues.apache.org/jira/secure/viewavatar?size=xsmall&avatarId=21140&avatarType=issuetype', 'name': 'Improvement', 'subtask': False, 'avatarId': 21140}///\n",
      "timespent: ///None///\n",
      "project: ///{'self': 'https://issues.apache.org/jira/rest/api/2/project/12315420', 'id': '12315420', 'key': 'SPARK', 'name': 'Spark', 'projectTypeKey': 'software', 'avatarUrls': {'48x48': 'https://issues.apache.org/jira/secure/projectavatar?pid=12315420&avatarId=27346', '24x24': 'https://issues.apache.org/jira/secure/projectavatar?size=small&pid=12315420&avatarId=27346', '16x16': 'https://issues.apache.org/jira/secure/projectavatar?size=xsmall&pid=12315420&avatarId=27346', '32x32': 'https://issues.apache.org/jira/secure/projectavatar?size=medium&pid=12315420&avatarId=27346'}}///\n",
      "aggregatetimespent: ///None///\n",
      "resolutiondate: ///None///\n",
      "workratio: ///-1///\n",
      "watches: ///{'self': 'https://issues.apache.org/jira/rest/api/2/issue/SPARK-45716/watchers', 'watchCount': 1, 'isWatching': False}///\n",
      "created: ///2023-10-28T18:17:13.000+0000///\n",
      "updated: ///2023-10-29T10:23:41.000+0000///\n",
      "timeoriginalestimate: ///None///\n",
      "description: ///Add missing parity megthod from Scala to Python///\n",
      "summary: ///Python parity method StructType.treeString///\n",
      "environment: ///None///\n",
      "duedate: ///None///\n"
     ]
    }
   ],
   "source": [
    "# fields\n",
    "# fields[\"priority\"].name\n",
    "# fields[\"assignee\"].??\n",
    "# fields[\"status\"].name\n",
    "# fields[\"status\"].name\n",
    "for i in valid_fields: \n",
    "    print(f\"{i}: ///{fields[i]}///\")"
   ],
   "metadata": {
    "collapsed": false,
    "ExecuteTime": {
     "end_time": "2023-10-30T01:58:55.267099100Z",
     "start_time": "2023-10-30T01:58:55.265098500Z"
    }
   },
   "id": "cb46d443a0abd701"
  },
  {
   "cell_type": "code",
   "execution_count": 82,
   "outputs": [
    {
     "ename": "JSONDecodeError",
     "evalue": "Expecting value: line 1 column 1 (char 0)",
     "output_type": "error",
     "traceback": [
      "\u001B[1;31m---------------------------------------------------------------------------\u001B[0m",
      "\u001B[1;31mJSONDecodeError\u001B[0m                           Traceback (most recent call last)",
      "File \u001B[1;32mF:\\0\\code\\PROJECTS\\SRS\\scraper\\.venv\\lib\\site-packages\\requests\\models.py:971\u001B[0m, in \u001B[0;36mResponse.json\u001B[1;34m(self, **kwargs)\u001B[0m\n\u001B[0;32m    970\u001B[0m \u001B[38;5;28;01mtry\u001B[39;00m:\n\u001B[1;32m--> 971\u001B[0m     \u001B[38;5;28;01mreturn\u001B[39;00m complexjson\u001B[38;5;241m.\u001B[39mloads(\u001B[38;5;28mself\u001B[39m\u001B[38;5;241m.\u001B[39mtext, \u001B[38;5;241m*\u001B[39m\u001B[38;5;241m*\u001B[39mkwargs)\n\u001B[0;32m    972\u001B[0m \u001B[38;5;28;01mexcept\u001B[39;00m JSONDecodeError \u001B[38;5;28;01mas\u001B[39;00m e:\n\u001B[0;32m    973\u001B[0m     \u001B[38;5;66;03m# Catch JSON-related errors and raise as requests.JSONDecodeError\u001B[39;00m\n\u001B[0;32m    974\u001B[0m     \u001B[38;5;66;03m# This aliases json.JSONDecodeError and simplejson.JSONDecodeError\u001B[39;00m\n",
      "File \u001B[1;32mF:\\DEV\\Python\\Python310\\lib\\json\\__init__.py:346\u001B[0m, in \u001B[0;36mloads\u001B[1;34m(s, cls, object_hook, parse_float, parse_int, parse_constant, object_pairs_hook, **kw)\u001B[0m\n\u001B[0;32m    343\u001B[0m \u001B[38;5;28;01mif\u001B[39;00m (\u001B[38;5;28mcls\u001B[39m \u001B[38;5;129;01mis\u001B[39;00m \u001B[38;5;28;01mNone\u001B[39;00m \u001B[38;5;129;01mand\u001B[39;00m object_hook \u001B[38;5;129;01mis\u001B[39;00m \u001B[38;5;28;01mNone\u001B[39;00m \u001B[38;5;129;01mand\u001B[39;00m\n\u001B[0;32m    344\u001B[0m         parse_int \u001B[38;5;129;01mis\u001B[39;00m \u001B[38;5;28;01mNone\u001B[39;00m \u001B[38;5;129;01mand\u001B[39;00m parse_float \u001B[38;5;129;01mis\u001B[39;00m \u001B[38;5;28;01mNone\u001B[39;00m \u001B[38;5;129;01mand\u001B[39;00m\n\u001B[0;32m    345\u001B[0m         parse_constant \u001B[38;5;129;01mis\u001B[39;00m \u001B[38;5;28;01mNone\u001B[39;00m \u001B[38;5;129;01mand\u001B[39;00m object_pairs_hook \u001B[38;5;129;01mis\u001B[39;00m \u001B[38;5;28;01mNone\u001B[39;00m \u001B[38;5;129;01mand\u001B[39;00m \u001B[38;5;129;01mnot\u001B[39;00m kw):\n\u001B[1;32m--> 346\u001B[0m     \u001B[38;5;28;01mreturn\u001B[39;00m \u001B[43m_default_decoder\u001B[49m\u001B[38;5;241;43m.\u001B[39;49m\u001B[43mdecode\u001B[49m\u001B[43m(\u001B[49m\u001B[43ms\u001B[49m\u001B[43m)\u001B[49m\n\u001B[0;32m    347\u001B[0m \u001B[38;5;28;01mif\u001B[39;00m \u001B[38;5;28mcls\u001B[39m \u001B[38;5;129;01mis\u001B[39;00m \u001B[38;5;28;01mNone\u001B[39;00m:\n",
      "File \u001B[1;32mF:\\DEV\\Python\\Python310\\lib\\json\\decoder.py:337\u001B[0m, in \u001B[0;36mJSONDecoder.decode\u001B[1;34m(self, s, _w)\u001B[0m\n\u001B[0;32m    333\u001B[0m \u001B[38;5;250m\u001B[39m\u001B[38;5;124;03m\"\"\"Return the Python representation of ``s`` (a ``str`` instance\u001B[39;00m\n\u001B[0;32m    334\u001B[0m \u001B[38;5;124;03mcontaining a JSON document).\u001B[39;00m\n\u001B[0;32m    335\u001B[0m \n\u001B[0;32m    336\u001B[0m \u001B[38;5;124;03m\"\"\"\u001B[39;00m\n\u001B[1;32m--> 337\u001B[0m obj, end \u001B[38;5;241m=\u001B[39m \u001B[38;5;28;43mself\u001B[39;49m\u001B[38;5;241;43m.\u001B[39;49m\u001B[43mraw_decode\u001B[49m\u001B[43m(\u001B[49m\u001B[43ms\u001B[49m\u001B[43m,\u001B[49m\u001B[43m \u001B[49m\u001B[43midx\u001B[49m\u001B[38;5;241;43m=\u001B[39;49m\u001B[43m_w\u001B[49m\u001B[43m(\u001B[49m\u001B[43ms\u001B[49m\u001B[43m,\u001B[49m\u001B[43m \u001B[49m\u001B[38;5;241;43m0\u001B[39;49m\u001B[43m)\u001B[49m\u001B[38;5;241;43m.\u001B[39;49m\u001B[43mend\u001B[49m\u001B[43m(\u001B[49m\u001B[43m)\u001B[49m\u001B[43m)\u001B[49m\n\u001B[0;32m    338\u001B[0m end \u001B[38;5;241m=\u001B[39m _w(s, end)\u001B[38;5;241m.\u001B[39mend()\n",
      "File \u001B[1;32mF:\\DEV\\Python\\Python310\\lib\\json\\decoder.py:355\u001B[0m, in \u001B[0;36mJSONDecoder.raw_decode\u001B[1;34m(self, s, idx)\u001B[0m\n\u001B[0;32m    354\u001B[0m \u001B[38;5;28;01mexcept\u001B[39;00m \u001B[38;5;167;01mStopIteration\u001B[39;00m \u001B[38;5;28;01mas\u001B[39;00m err:\n\u001B[1;32m--> 355\u001B[0m     \u001B[38;5;28;01mraise\u001B[39;00m JSONDecodeError(\u001B[38;5;124m\"\u001B[39m\u001B[38;5;124mExpecting value\u001B[39m\u001B[38;5;124m\"\u001B[39m, s, err\u001B[38;5;241m.\u001B[39mvalue) \u001B[38;5;28;01mfrom\u001B[39;00m \u001B[38;5;28;01mNone\u001B[39;00m\n\u001B[0;32m    356\u001B[0m \u001B[38;5;28;01mreturn\u001B[39;00m obj, end\n",
      "\u001B[1;31mJSONDecodeError\u001B[0m: Expecting value: line 1 column 1 (char 0)",
      "\nDuring handling of the above exception, another exception occurred:\n",
      "\u001B[1;31mJSONDecodeError\u001B[0m                           Traceback (most recent call last)",
      "Cell \u001B[1;32mIn[82], line 2\u001B[0m\n\u001B[0;32m      1\u001B[0m response \u001B[38;5;241m=\u001B[39m requests\u001B[38;5;241m.\u001B[39mget(\u001B[38;5;124m\"\u001B[39m\u001B[38;5;124mhttps://issues.apache.org/jira/rest/api/2/pullrequests\u001B[39m\u001B[38;5;124m\"\u001B[39m, headers\u001B[38;5;241m=\u001B[39mgh_headers)\n\u001B[1;32m----> 2\u001B[0m fields \u001B[38;5;241m=\u001B[39m \u001B[43mresponse\u001B[49m\u001B[38;5;241;43m.\u001B[39;49m\u001B[43mjson\u001B[49m\u001B[43m(\u001B[49m\u001B[43m)\u001B[49m[\u001B[38;5;124m\"\u001B[39m\u001B[38;5;124mfields\u001B[39m\u001B[38;5;124m\"\u001B[39m]\n\u001B[0;32m      4\u001B[0m \u001B[38;5;66;03m# print(fields[\"issuelinks\"])\u001B[39;00m\n\u001B[0;32m      5\u001B[0m \u001B[38;5;66;03m# fields.__str__().find(\"43307\")\u001B[39;00m\n\u001B[0;32m      6\u001B[0m \u001B[38;5;66;03m# fields.__str__()[11011:11033]\u001B[39;00m\n\u001B[0;32m      7\u001B[0m \n\u001B[0;32m      8\u001B[0m \u001B[38;5;66;03m# string = fields.__str__()\u001B[39;00m\n\u001B[0;32m      9\u001B[0m string \u001B[38;5;241m=\u001B[39m json\u001B[38;5;241m.\u001B[39mdumps(fields, indent\u001B[38;5;241m=\u001B[39m\u001B[38;5;241m4\u001B[39m)\n",
      "File \u001B[1;32mF:\\0\\code\\PROJECTS\\SRS\\scraper\\.venv\\lib\\site-packages\\requests\\models.py:975\u001B[0m, in \u001B[0;36mResponse.json\u001B[1;34m(self, **kwargs)\u001B[0m\n\u001B[0;32m    971\u001B[0m     \u001B[38;5;28;01mreturn\u001B[39;00m complexjson\u001B[38;5;241m.\u001B[39mloads(\u001B[38;5;28mself\u001B[39m\u001B[38;5;241m.\u001B[39mtext, \u001B[38;5;241m*\u001B[39m\u001B[38;5;241m*\u001B[39mkwargs)\n\u001B[0;32m    972\u001B[0m \u001B[38;5;28;01mexcept\u001B[39;00m JSONDecodeError \u001B[38;5;28;01mas\u001B[39;00m e:\n\u001B[0;32m    973\u001B[0m     \u001B[38;5;66;03m# Catch JSON-related errors and raise as requests.JSONDecodeError\u001B[39;00m\n\u001B[0;32m    974\u001B[0m     \u001B[38;5;66;03m# This aliases json.JSONDecodeError and simplejson.JSONDecodeError\u001B[39;00m\n\u001B[1;32m--> 975\u001B[0m     \u001B[38;5;28;01mraise\u001B[39;00m RequestsJSONDecodeError(e\u001B[38;5;241m.\u001B[39mmsg, e\u001B[38;5;241m.\u001B[39mdoc, e\u001B[38;5;241m.\u001B[39mpos)\n",
      "\u001B[1;31mJSONDecodeError\u001B[0m: Expecting value: line 1 column 1 (char 0)"
     ]
    }
   ],
   "source": [
    "response = requests.get(\"https://issues.apache.org/jira/rest/api/2/issue/HADOOP-18958\", headers=gh_headers)\n",
    "fields = response.json()[\"fields\"]\n",
    "\n",
    "# print(fields[\"issuelinks\"])\n",
    "# fields.__str__().find(\"43307\")\n",
    "# fields.__str__()[11011:11033]\n",
    "\n",
    "# string = fields.__str__()\n",
    "string = json.dumps(fields, indent=4)\n",
    "\n",
    "window = 100\n",
    "for i in range(0, len(string), window):\n",
    "    slice = string[i:i+window]\n",
    "    if slice.find(\"6234\") != -1:\n",
    "        print(slice)"
   ],
   "metadata": {
    "collapsed": false,
    "ExecuteTime": {
     "end_time": "2023-10-30T01:39:06.929569100Z",
     "start_time": "2023-10-30T01:39:06.391520300Z"
    }
   },
   "id": "3b781cc346a33ec0"
  },
  {
   "cell_type": "code",
   "execution_count": null,
   "outputs": [],
   "source": [],
   "metadata": {
    "collapsed": false
   },
   "id": "5e4ac8df6ec5db12"
  },
  {
   "cell_type": "code",
   "execution_count": null,
   "outputs": [],
   "source": [],
   "metadata": {
    "collapsed": false
   },
   "id": "2929a27bc5367c87"
  }
 ],
 "metadata": {
  "kernelspec": {
   "display_name": "Python 3",
   "language": "python",
   "name": "python3"
  },
  "language_info": {
   "codemirror_mode": {
    "name": "ipython",
    "version": 2
   },
   "file_extension": ".py",
   "mimetype": "text/x-python",
   "name": "python",
   "nbconvert_exporter": "python",
   "pygments_lexer": "ipython2",
   "version": "2.7.6"
  }
 },
 "nbformat": 4,
 "nbformat_minor": 5
}
